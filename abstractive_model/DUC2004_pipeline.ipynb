{
 "cells": [
  {
   "cell_type": "markdown",
   "metadata": {
    "collapsed": true
   },
   "source": [
    "## 0. Import Libraries"
   ]
  },
  {
   "cell_type": "code",
   "execution_count": 1,
   "metadata": {
    "collapsed": true
   },
   "outputs": [],
   "source": [
    "import unicodedata\n",
    "import string\n",
    "import re\n",
    "import random\n",
    "import time\n",
    "import math\n",
    "\n",
    "import torch\n",
    "import torch.nn as nn\n",
    "from torch.autograd import Variable\n",
    "from torch import optim\n",
    "import torch.nn.functional as F\n",
    "## using CUDA to speed up training\n",
    "USE_CUDA = True\n",
    "\n",
    "## project utils\n",
    "## basic parameters and pre-processing function \n",
    "from preprocess import *\n",
    "from model import test_model, get_model"
   ]
  },
  {
   "cell_type": "markdown",
   "metadata": {
    "collapsed": true
   },
   "source": [
    "## 1. pre-process "
   ]
  },
  {
   "cell_type": "code",
   "execution_count": 2,
   "metadata": {},
   "outputs": [
    {
     "name": "stdout",
     "output_type": "stream",
     "text": [
      "Reading lines...\n",
      "Read 334 sentence pairs\n",
      "Trimmed to 332 sentence pairs\n",
      "Indexing words...\n",
      "['nearly years behind the times the house voted friday to condemn the nazi soviet nonaggression pact of . the measure a nonbinding resolution was brought to the floor by rep . john shimkus r ill . house leaders allowed the measure to be brought to the floor as a way to appease the more conservative members who believe they have been shortchanged by the budget process .', 'house republicans using idle time to get votes on topics good for campaigns']\n"
     ]
    }
   ],
   "source": [
    "voc, pairs = prepare_data('summary', 'sentence', True)\n",
    "\n",
    "# Print an example pair\n",
    "print(random.choice(pairs))"
   ]
  },
  {
   "cell_type": "markdown",
   "metadata": {},
   "source": [
    "## 2. test model"
   ]
  },
  {
   "cell_type": "code",
   "execution_count": 3,
   "metadata": {},
   "outputs": [
    {
     "name": "stdout",
     "output_type": "stream",
     "text": [
      "EncoderRNN (\n",
      "  (embedding): Embedding(10, 10)\n",
      "  (gru): GRU(10, 10, num_layers=2)\n",
      ")\n",
      "AttnDecoderRNN (\n",
      "  (embedding): Embedding(10, 10)\n",
      "  (gru): GRU(20, 10, num_layers=2, dropout=0.1)\n",
      "  (out): Linear (20 -> 10)\n",
      "  (attn): Attn (\n",
      "    (attn): Linear (10 -> 10)\n",
      "  )\n",
      ")\n",
      "torch.Size([1, 10]) torch.Size([2, 1, 10]) torch.Size([1, 1, 3])\n",
      "torch.Size([1, 10]) torch.Size([2, 1, 10]) torch.Size([1, 1, 3])\n",
      "torch.Size([1, 10]) torch.Size([2, 1, 10]) torch.Size([1, 1, 3])\n"
     ]
    }
   ],
   "source": [
    "test_model()"
   ]
  },
  {
   "cell_type": "markdown",
   "metadata": {
    "collapsed": true
   },
   "source": [
    "## 3. train model "
   ]
  },
  {
   "cell_type": "code",
   "execution_count": 4,
   "metadata": {
    "collapsed": true
   },
   "outputs": [],
   "source": [
    "from train import train, as_minutes, time_since"
   ]
  },
  {
   "cell_type": "code",
   "execution_count": 5,
   "metadata": {
    "collapsed": true
   },
   "outputs": [],
   "source": [
    "## Get model\n",
    "encoder,decoder = get_model(voc)\n",
    "if USE_CUDA:\n",
    "    encoder.cuda()\n",
    "    decoder.cuda()"
   ]
  },
  {
   "cell_type": "code",
   "execution_count": 6,
   "metadata": {
    "collapsed": true
   },
   "outputs": [],
   "source": [
    "## Initialize optimizers and criterion\n",
    "learning_rate = 0.0001\n",
    "encoder_optimizer = optim.Adam(encoder.parameters(), lr=learning_rate)\n",
    "decoder_optimizer = optim.Adam(decoder.parameters(), lr=learning_rate)\n",
    "criterion = nn.NLLLoss()"
   ]
  },
  {
   "cell_type": "code",
   "execution_count": 7,
   "metadata": {
    "collapsed": true
   },
   "outputs": [],
   "source": [
    "## Train parameters\n",
    "n_epochs = 5000\n",
    "plot_every = 20\n",
    "print_every = 100\n",
    "## Keep track of time elapsed and running averages\n",
    "start = time.time()\n",
    "plot_losses = []\n",
    "print_loss_total = 0 # Reset every print_every\n",
    "plot_loss_total = 0 # Reset every plot_every"
   ]
  },
  {
   "cell_type": "code",
   "execution_count": 8,
   "metadata": {},
   "outputs": [
    {
     "name": "stdout",
     "output_type": "stream",
     "text": [
      "0m 43s (- 35m 34s) (100 2%) 4.7547\n",
      "1m 31s (- 36m 27s) (200 4%) 4.5925\n",
      "2m 28s (- 38m 49s) (300 6%) 5.7171\n",
      "3m 26s (- 39m 30s) (400 8%) 5.6168\n",
      "4m 27s (- 40m 11s) (500 10%) 6.0397\n",
      "5m 24s (- 39m 41s) (600 12%) 5.6340\n",
      "6m 25s (- 39m 26s) (700 14%) 5.5206\n",
      "7m 23s (- 38m 48s) (800 16%) 5.3534\n",
      "8m 23s (- 38m 13s) (900 18%) 5.3379\n",
      "9m 25s (- 37m 43s) (1000 20%) 5.5464\n",
      "10m 26s (- 37m 0s) (1100 22%) 5.4568\n",
      "11m 26s (- 36m 15s) (1200 24%) 5.3155\n",
      "12m 24s (- 35m 18s) (1300 26%) 5.1650\n",
      "13m 25s (- 34m 32s) (1400 28%) 5.1918\n",
      "14m 26s (- 33m 42s) (1500 30%) 5.1907\n",
      "15m 27s (- 32m 50s) (1600 32%) 4.8732\n",
      "16m 26s (- 31m 55s) (1700 34%) 4.7738\n",
      "17m 27s (- 31m 2s) (1800 36%) 4.9720\n",
      "18m 31s (- 30m 13s) (1900 38%) 4.8969\n",
      "19m 31s (- 29m 17s) (2000 40%) 4.6841\n",
      "20m 32s (- 28m 22s) (2100 42%) 4.6163\n",
      "21m 32s (- 27m 25s) (2200 44%) 4.6084\n",
      "22m 34s (- 26m 30s) (2300 46%) 4.4909\n",
      "23m 35s (- 25m 33s) (2400 48%) 4.4909\n",
      "24m 36s (- 24m 36s) (2500 50%) 4.3825\n",
      "25m 36s (- 23m 38s) (2600 52%) 4.3635\n",
      "26m 37s (- 22m 41s) (2700 54%) 4.1986\n",
      "27m 38s (- 21m 42s) (2800 56%) 4.0750\n",
      "28m 39s (- 20m 44s) (2900 57%) 4.3089\n",
      "29m 40s (- 19m 46s) (3000 60%) 3.8863\n",
      "30m 42s (- 18m 49s) (3100 62%) 3.8127\n",
      "31m 43s (- 17m 50s) (3200 64%) 3.7943\n",
      "32m 45s (- 16m 52s) (3300 66%) 3.9706\n",
      "33m 47s (- 15m 53s) (3400 68%) 3.7623\n",
      "34m 48s (- 14m 55s) (3500 70%) 3.6587\n",
      "35m 50s (- 13m 56s) (3600 72%) 3.5558\n",
      "36m 53s (- 12m 57s) (3700 74%) 3.3812\n",
      "37m 57s (- 11m 59s) (3800 76%) 3.4397\n",
      "38m 58s (- 10m 59s) (3900 78%) 3.2360\n",
      "40m 0s (- 10m 0s) (4000 80%) 3.2236\n",
      "41m 3s (- 9m 0s) (4100 82%) 3.2100\n",
      "41m 49s (- 7m 57s) (4200 84%) 2.7784\n",
      "42m 35s (- 6m 56s) (4300 86%) 3.0265\n",
      "43m 21s (- 5m 54s) (4400 88%) 2.7838\n",
      "44m 5s (- 4m 53s) (4500 90%) 2.8110\n",
      "44m 50s (- 3m 53s) (4600 92%) 2.7241\n",
      "45m 34s (- 2m 54s) (4700 94%) 2.5402\n",
      "46m 21s (- 1m 55s) (4800 96%) 2.6805\n",
      "47m 7s (- 0m 57s) (4900 98%) 2.3924\n",
      "47m 51s (- 0m 0s) (5000 100%) 2.2725\n"
     ]
    }
   ],
   "source": [
    "## Begin!\n",
    "for epoch in range(1, n_epochs + 1):\n",
    "    ## Get training data for this cycle\n",
    "    training_pair = variables_from_pair(voc,random.choice(pairs))\n",
    "    input_variable = training_pair[0]\n",
    "    target_variable = training_pair[1]\n",
    "    ## Run the train function\n",
    "    loss = train(input_variable, target_variable, encoder, decoder, encoder_optimizer, decoder_optimizer, criterion)\n",
    "    ## Keep track of loss\n",
    "    print_loss_total += loss\n",
    "    plot_loss_total += loss\n",
    "    if epoch == 0: continue\n",
    "    ## Output summary\n",
    "    if epoch % print_every == 0:\n",
    "        print_loss_avg = print_loss_total / print_every\n",
    "        print_loss_total = 0\n",
    "        print_summary = '%s (%d %d%%) %.4f' % (time_since(start, epoch / n_epochs), epoch, epoch / n_epochs * 100, print_loss_avg)\n",
    "        print(print_summary)\n",
    "    ## Prepare plot data\n",
    "    if epoch % plot_every == 0:\n",
    "        plot_loss_avg = plot_loss_total / plot_every\n",
    "        plot_losses.append(plot_loss_avg)\n",
    "        plot_loss_total = 0"
   ]
  },
  {
   "cell_type": "markdown",
   "metadata": {},
   "source": [
    "### save model"
   ]
  },
  {
   "cell_type": "code",
   "execution_count": 9,
   "metadata": {
    "collapsed": true
   },
   "outputs": [],
   "source": [
    "encoder_path = './model/encoder.model'\n",
    "decoder_path = './model/decoder.model'\n",
    "torch.save(encoder, encoder_path)\n",
    "torch.save(decoder, decoder_path)\n",
    "# encoder = torch.load(encoder_path)\n",
    "# decoder = torch.load(decoder_path)"
   ]
  },
  {
   "cell_type": "markdown",
   "metadata": {},
   "source": [
    "### show learning curve "
   ]
  },
  {
   "cell_type": "code",
   "execution_count": 10,
   "metadata": {},
   "outputs": [
    {
     "data": {
      "text/plain": [
       "<matplotlib.figure.Figure at 0x7fbaa86fcd30>"
      ]
     },
     "metadata": {},
     "output_type": "display_data"
    },
    {
     "data": {
      "image/png": "[encoded data removed]",
      "text/plain": [
       "<matplotlib.figure.Figure at 0x7fba48e91be0>"
      ]
     },
     "metadata": {},
     "output_type": "display_data"
    }
   ],
   "source": [
    "import matplotlib.pyplot as plt\n",
    "import matplotlib.ticker as ticker\n",
    "import numpy as np\n",
    "%matplotlib inline\n",
    "\n",
    "def show_plot(points):\n",
    "    plt.figure()\n",
    "    fig, ax = plt.subplots()\n",
    "    loc = ticker.MultipleLocator(base=0.2) # put ticks at regular intervals\n",
    "    ax.yaxis.set_major_locator(loc)\n",
    "    plt.plot(points)\n",
    "\n",
    "show_plot(plot_losses)"
   ]
  },
  {
   "cell_type": "markdown",
   "metadata": {},
   "source": [
    "## 4. evaluate"
   ]
  },
  {
   "cell_type": "code",
   "execution_count": 11,
   "metadata": {
    "collapsed": true
   },
   "outputs": [],
   "source": [
    "import matplotlib.pyplot as plt\n",
    "import matplotlib.ticker as ticker\n",
    "import numpy as np\n",
    "%matplotlib inline\n",
    "from utils import evaluate_randomly"
   ]
  },
  {
   "cell_type": "code",
   "execution_count": 12,
   "metadata": {},
   "outputs": [
    {
     "name": "stdout",
     "output_type": "stream",
     "text": [
      "> brief biography of ariel sharon named israel s foreign minister born in kfar mallal in british ruled palestine . mideast war fights as junior officer wounded three times . as a result sharon resigns as defense minister and holds only second rank posts for next years .\n",
      "= seasoned warrior ariel sharon chosen to seek peace\n",
      "< seasoned ariel ariel sharon chosen to peace to peace <EOS>\n",
      "\n"
     ]
    }
   ],
   "source": [
    "evaluate_randomly(encoder, decoder, voc, pairs)"
   ]
  },
  {
   "cell_type": "markdown",
   "metadata": {
    "collapsed": true
   },
   "source": [
    "## 5. show attention"
   ]
  },
  {
   "cell_type": "code",
   "execution_count": 13,
   "metadata": {
    "collapsed": true
   },
   "outputs": [],
   "source": [
    "from utils import evaluate_and_show_attention"
   ]
  },
  {
   "cell_type": "code",
   "execution_count": 14,
   "metadata": {
    "collapsed": true
   },
   "outputs": [],
   "source": [
    "sentence = \"a south korean lawmaker said friday communist north korea could be producing plutonium and could have more secret underground nuclear facilities than already feared .\""
   ]
  },
  {
   "cell_type": "code",
   "execution_count": 15,
   "metadata": {},
   "outputs": [
    {
     "name": "stdout",
     "output_type": "stream",
     "text": [
      "input = a south korean lawmaker said friday communist north korea could be producing plutonium and could have more secret underground nuclear facilities than already feared .\n",
      "output = ecevit warrior for bosnian for . of despite north korea <EOS>\n"
     ]
    },
    {
     "data": {
      "image/png": "[encoded data removed]",
      "text/plain": [
       "<matplotlib.figure.Figure at 0x7fba59a9a358>"
      ]
     },
     "metadata": {},
     "output_type": "display_data"
    }
   ],
   "source": [
    "evaluate_and_show_attention(encoder, decoder, voc, sentence)"
   ]
  },
  {
   "cell_type": "markdown",
   "metadata": {
    "collapsed": true
   },
   "source": [
    "## 6. generate result on test set"
   ]
  },
  {
   "cell_type": "code",
   "execution_count": 16,
   "metadata": {
    "collapsed": true
   },
   "outputs": [],
   "source": [
    "from utils import generate_result"
   ]
  },
  {
   "cell_type": "code",
   "execution_count": 17,
   "metadata": {
    "collapsed": true
   },
   "outputs": [],
   "source": [
    "ref_file = './data/extractive_ouput/test_output.txt'\n",
    "res_file = './data/abstractive_output/test_result.txt'\n",
    "generate_result(encoder, decoder, voc, ref_file, res_file)"
   ]
  },
  {
   "cell_type": "markdown",
   "metadata": {},
   "source": [
    "### calculate ROUGE socre"
   ]
  },
  {
   "cell_type": "code",
   "execution_count": 18,
   "metadata": {
    "collapsed": true
   },
   "outputs": [],
   "source": [
    "from evaluation import evaluate_rouge_scores"
   ]
  },
  {
   "cell_type": "code",
   "execution_count": 19,
   "metadata": {},
   "outputs": [
    {
     "name": "stdout",
     "output_type": "stream",
     "text": [
      "38 entries...\n",
      "38 entries are used for evaluation.\n"
     ]
    },
    {
     "data": {
      "text/plain": [
       "{'ROUGE-1': 0.00518, 'ROUGE-2': 0.0, 'ROUGE-SU4': 0.00101}"
      ]
     },
     "execution_count": 19,
     "metadata": {},
     "output_type": "execute_result"
    }
   ],
   "source": [
    "evaluate_rouge_scores(res_file)"
   ]
  }
 ],
 "metadata": {
  "kernelspec": {
   "display_name": "Python [conda env:deeplearning]",
   "language": "python",
   "name": "conda-env-deeplearning-py"
  },
  "language_info": {
   "codemirror_mode": {
    "name": "ipython",
    "version": 3
   },
   "file_extension": ".py",
   "mimetype": "text/x-python",
   "name": "python",
   "nbconvert_exporter": "python",
   "pygments_lexer": "ipython3",
   "version": "3.6.3"
  }
 },
 "nbformat": 4,
 "nbformat_minor": 2
}

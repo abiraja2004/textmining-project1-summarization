{
 "cells": [
  {
   "cell_type": "code",
   "execution_count": 13,
   "metadata": {
    "collapsed": true
   },
   "outputs": [],
   "source": [
    "from os.path import normpath, basename, join, exists, expanduser\n",
    "import gzip\n",
    "import json\n",
    "from glob import glob\n",
    "from termcolor import colored, cprint\n",
    "from pythonrouge.pythonrouge import Pythonrouge"
   ]
  },
  {
   "cell_type": "code",
   "execution_count": 14,
   "metadata": {
    "collapsed": true
   },
   "outputs": [],
   "source": [
    "ROUGE = expanduser(\"/root/sharefolder/playgrounds/pku/text-mining/project1-summrazation/rouge/pythonrouge/pythonrouge/RELEASE-1.5.5\")\n",
    "ROUGE_PATH = join(ROUGE, \"ROUGE-1.5.5.pl\")\n",
    "ROUGE_DATA = join(ROUGE, \"data\")"
   ]
  },
  {
   "cell_type": "markdown",
   "metadata": {},
   "source": [
    "### evaluate on us model output"
   ]
  },
  {
   "cell_type": "code",
   "execution_count": 15,
   "metadata": {},
   "outputs": [
    {
     "name": "stdout",
     "output_type": "stream",
     "text": [
      "38 entries...\n",
      "38 entries are used for evaluation.\n"
     ]
    },
    {
     "data": {
      "text/plain": [
       "{'ROUGE-1': 0.0, 'ROUGE-2': 0.0, 'ROUGE-SU4': 0.0}"
      ]
     },
     "execution_count": 15,
     "metadata": {},
     "output_type": "execute_result"
    }
   ],
   "source": [
    "evaluation_file = './data/abstractive_output/test_result.txt'\n",
    "evaluate_rouge_scores(evaluation_file)"
   ]
  },
  {
   "cell_type": "code",
   "execution_count": 11,
   "metadata": {
    "collapsed": true
   },
   "outputs": [],
   "source": [
    "\"\"\"\n",
    "Computes ROUGE scores for models and datasets that have outputs available\n",
    "\"\"\"\n",
    "\n",
    "prediction_filename = \"prediction.json.gz\"\n",
    "evaluation_filename = \"evaluation.json\"\n",
    "\n",
    "def remove_prefix_and_suffix(text, prefix, suffix):\n",
    "    if text.startswith(prefix):\n",
    "        text = text[len(prefix):]\n",
    "    if text.endswith(suffix):\n",
    "        text = text[:-len(suffix)]\n",
    "    return text\n",
    "\n",
    "def remove_tags(sentence):\n",
    "    return remove_prefix_and_suffix(sentence, \"<d> <p> <s>\", \"</s> </p> </d>\").strip()\n",
    "\n",
    "def evaluate_rouge_scores(evaluation_file):\n",
    "    summaries = [] # model-generated\n",
    "    references = [] # human-generated\n",
    "    # articles = {}\n",
    "    with open(evaluation_file, encoding='utf8') as file:\n",
    "        evaluation_lines = file.read().strip().split('\\n')\n",
    "        print(\"%d entries...\" % len(evaluation_lines))\n",
    "        for line in evaluation_lines:\n",
    "            sum_line = line.split('\\t')[0]\n",
    "            ref_line = line.split('\\t')[1:]\n",
    "            summaries.append( remove_tags(sum_line).encode('utf-8').split())\n",
    "            references.append([ remove_tags(example).encode('utf-8').split() for example in ref_line])\n",
    "    print(\"%d entries are used for evaluation.\" % len(summaries))\n",
    "    \n",
    "    rouge = Pythonrouge(summary_file_exist=False,\n",
    "                    summary=summaries, reference=references,\n",
    "                    n_gram=2, ROUGE_SU4=True, ROUGE_L=False,\n",
    "                    recall_only=True, stemming=True, stopwords=True,\n",
    "                    word_level=True, length_limit=True, length=50,\n",
    "                    use_cf=False, cf=95, scoring_formula='average',\n",
    "                    resampling=True, samples=1000, favor=True, p=0.5)\n",
    "    score = rouge.calc_score()\n",
    "    return score"
   ]
  }
 ],
 "metadata": {
  "kernelspec": {
   "display_name": "Python [conda env:deeplearning]",
   "language": "python",
   "name": "conda-env-deeplearning-py"
  },
  "language_info": {
   "codemirror_mode": {
    "name": "ipython",
    "version": 3
   },
   "file_extension": ".py",
   "mimetype": "text/x-python",
   "name": "python",
   "nbconvert_exporter": "python",
   "pygments_lexer": "ipython3",
   "version": "3.6.3"
  }
 },
 "nbformat": 4,
 "nbformat_minor": 2
}

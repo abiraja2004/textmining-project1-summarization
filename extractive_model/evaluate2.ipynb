{
 "cells": [
  {
   "cell_type": "code",
   "execution_count": 13,
   "metadata": {
    "collapsed": true
   },
   "outputs": [],
   "source": [
    "from evaluation import evaluate_rouge_scores"
   ]
  },
  {
   "cell_type": "code",
   "execution_count": null,
   "metadata": {
    "collapsed": true
   },
   "outputs": [],
   "source": []
  },
  {
   "cell_type": "code",
   "execution_count": 15,
   "metadata": {},
   "outputs": [
    {
     "name": "stdout",
     "output_type": "stream",
     "text": [
      "38 entries...\n",
      "38 entries are used for evaluation.\n"
     ]
    },
    {
     "data": {
      "text/plain": [
       "{'ROUGE-1': 0.77776, 'ROUGE-2': 0.35852, 'ROUGE-SU4': 0.42424}"
      ]
     },
     "execution_count": 15,
     "metadata": {},
     "output_type": "execute_result"
    }
   ],
   "source": [
    "res_file = 'extract2_output/testorg_output.txt'\n",
    "evaluate_rouge_scores(res_file)"
   ]
  },
  {
   "cell_type": "code",
   "execution_count": 16,
   "metadata": {},
   "outputs": [
    {
     "name": "stdout",
     "output_type": "stream",
     "text": [
      "38 entries...\n",
      "38 entries are used for evaluation.\n"
     ]
    },
    {
     "data": {
      "text/plain": [
       "{'ROUGE-1': 0.67985, 'ROUGE-2': 0.25566, 'ROUGE-SU4': 0.36109}"
      ]
     },
     "execution_count": 16,
     "metadata": {},
     "output_type": "execute_result"
    }
   ],
   "source": [
    "res_file = 'extract2_output/testsvr_output.txt'\n",
    "evaluate_rouge_scores(res_file)"
   ]
  },
  {
   "cell_type": "code",
   "execution_count": 17,
   "metadata": {},
   "outputs": [
    {
     "name": "stdout",
     "output_type": "stream",
     "text": [
      "334 entries...\n",
      "334 entries are used for evaluation.\n"
     ]
    },
    {
     "data": {
      "text/plain": [
       "{'ROUGE-1': 0.80774, 'ROUGE-2': 0.41118, 'ROUGE-SU4': 0.4789}"
      ]
     },
     "execution_count": 17,
     "metadata": {},
     "output_type": "execute_result"
    }
   ],
   "source": [
    "res_file = 'extract2_output/trainorg_output.txt'\n",
    "evaluate_rouge_scores(res_file)"
   ]
  },
  {
   "cell_type": "code",
   "execution_count": 18,
   "metadata": {},
   "outputs": [
    {
     "name": "stdout",
     "output_type": "stream",
     "text": [
      "334 entries...\n",
      "334 entries are used for evaluation.\n"
     ]
    },
    {
     "data": {
      "text/plain": [
       "{'ROUGE-1': 0.74901, 'ROUGE-2': 0.36272, 'ROUGE-SU4': 0.42747}"
      ]
     },
     "execution_count": 18,
     "metadata": {},
     "output_type": "execute_result"
    }
   ],
   "source": [
    "res_file = 'extract2_output/trainsvr_output.txt'\n",
    "evaluate_rouge_scores(res_file)"
   ]
  },
  {
   "cell_type": "code",
   "execution_count": 19,
   "metadata": {},
   "outputs": [
    {
     "name": "stdout",
     "output_type": "stream",
     "text": [
      "47 entries...\n",
      "47 entries are used for evaluation.\n"
     ]
    },
    {
     "data": {
      "text/plain": [
       "{'ROUGE-1': 0.85281, 'ROUGE-2': 0.44917, 'ROUGE-SU4': 0.51983}"
      ]
     },
     "execution_count": 19,
     "metadata": {},
     "output_type": "execute_result"
    }
   ],
   "source": [
    "res_file = 'extract2_output/devorg_output.txt'\n",
    "evaluate_rouge_scores(res_file)"
   ]
  },
  {
   "cell_type": "code",
   "execution_count": 20,
   "metadata": {},
   "outputs": [
    {
     "name": "stdout",
     "output_type": "stream",
     "text": [
      "47 entries...\n",
      "47 entries are used for evaluation.\n"
     ]
    },
    {
     "data": {
      "text/plain": [
       "{'ROUGE-1': 0.78334, 'ROUGE-2': 0.3801, 'ROUGE-SU4': 0.46661}"
      ]
     },
     "execution_count": 20,
     "metadata": {},
     "output_type": "execute_result"
    }
   ],
   "source": [
    "res_file = 'extract2_output/devsvr_output.txt'\n",
    "evaluate_rouge_scores(res_file)"
   ]
  },
  {
   "cell_type": "code",
   "execution_count": 21,
   "metadata": {},
   "outputs": [
    {
     "name": "stdout",
     "output_type": "stream",
     "text": [
      "334 entries...\n",
      "334 entries are used for evaluation.\n"
     ]
    },
    {
     "data": {
      "text/plain": [
       "{'ROUGE-1': 0.72645, 'ROUGE-2': 0.33931, 'ROUGE-SU4': 0.40617}"
      ]
     },
     "execution_count": 21,
     "metadata": {},
     "output_type": "execute_result"
    }
   ],
   "source": [
    "res_file = 'extract2_output/trainsvm_output.txt'\n",
    "evaluate_rouge_scores(res_file)"
   ]
  },
  {
   "cell_type": "code",
   "execution_count": 22,
   "metadata": {},
   "outputs": [
    {
     "name": "stdout",
     "output_type": "stream",
     "text": [
      "47 entries...\n",
      "47 entries are used for evaluation.\n"
     ]
    },
    {
     "data": {
      "text/plain": [
       "{'ROUGE-1': 0.74592, 'ROUGE-2': 0.35941, 'ROUGE-SU4': 0.4433}"
      ]
     },
     "execution_count": 22,
     "metadata": {},
     "output_type": "execute_result"
    }
   ],
   "source": [
    "res_file = 'extract2_output/devsvm_output.txt'\n",
    "evaluate_rouge_scores(res_file)"
   ]
  },
  {
   "cell_type": "code",
   "execution_count": 23,
   "metadata": {},
   "outputs": [
    {
     "name": "stdout",
     "output_type": "stream",
     "text": [
      "38 entries...\n",
      "38 entries are used for evaluation.\n"
     ]
    },
    {
     "data": {
      "text/plain": [
       "{'ROUGE-1': 0.6711, 'ROUGE-2': 0.24551, 'ROUGE-SU4': 0.35702}"
      ]
     },
     "execution_count": 23,
     "metadata": {},
     "output_type": "execute_result"
    }
   ],
   "source": [
    "res_file = 'extract2_output/testsvm_output.txt'\n",
    "evaluate_rouge_scores(res_file)"
   ]
  },
  {
   "cell_type": "code",
   "execution_count": 4,
   "metadata": {},
   "outputs": [
    {
     "name": "stdout",
     "output_type": "stream",
     "text": [
      "38 entries...\n",
      "38 entries are used for evaluation.\n",
      "38 entries...\n",
      "38 entries are used for evaluation.\n",
      "38 entries...\n",
      "38 entries are used for evaluation.\n",
      "38 entries...\n",
      "38 entries are used for evaluation.\n"
     ]
    }
   ],
   "source": [
    "from evaluation import evaluate_rouge_scores\n",
    "from pandas import DataFrame\n",
    "\n",
    "waylist = ['basic','svm','svr','org']\n",
    "result_l = []\n",
    "score = evaluate_rouge_scores('org_text/test_rouge.txt')\n",
    "result_l.append([score['ROUGE-1'],score['ROUGE-2'],score['ROUGE-SU4']])\n",
    "for way in waylist[1:]:\n",
    "    res_file = 'extract2_output/test'+way+'2_output.txt'\n",
    "    score = evaluate_rouge_scores(res_file)\n",
    "    result_l.append([score['ROUGE-1'],score['ROUGE-2'],score['ROUGE-SU4']])\n",
    "result = DataFrame(result_l, index = waylist, columns = ['ROUGE-1','ROUGE-2','ROUGE-SU4'])\n"
   ]
  },
  {
   "cell_type": "code",
   "execution_count": 5,
   "metadata": {},
   "outputs": [],
   "source": [
    "result.to_csv('result.csv')"
   ]
  },
  {
   "cell_type": "code",
   "execution_count": 2,
   "metadata": {},
   "outputs": [
    {
     "name": "stdout",
     "output_type": "stream",
     "text": [
      "38 entries...\n",
      "38 entries are used for evaluation.\n",
      "38 entries...\n",
      "38 entries are used for evaluation.\n",
      "38 entries...\n",
      "38 entries are used for evaluation.\n",
      "38 entries...\n",
      "38 entries are used for evaluation.\n"
     ]
    }
   ],
   "source": [
    "from evaluation import evaluate_rouge_scores_average\n",
    "from pandas import DataFrame\n",
    "\n",
    "waylist = ['basic','svm','svr','org']\n",
    "result_l = []\n",
    "score = evaluate_rouge_scores_average('org_text/test_rouge.txt')\n",
    "result_l.append([score['ROUGE-1'],score['ROUGE-2'],score['ROUGE-SU4']])\n",
    "for way in waylist[1:]:\n",
    "    res_file = 'extract2_output/test'+way+'2_output.txt'\n",
    "    score = evaluate_rouge_scores_average(res_file)\n",
    "    result_l.append([score['ROUGE-1'],score['ROUGE-2'],score['ROUGE-SU4']])\n",
    "result = DataFrame(result_l, index = waylist, columns = ['ROUGE-1','ROUGE-2','ROUGE-SU4'])"
   ]
  },
  {
   "cell_type": "code",
   "execution_count": 3,
   "metadata": {},
   "outputs": [
    {
     "data": {
      "text/html": [
       "<div>\n",
       "<style>\n",
       "    .dataframe thead tr:only-child th {\n",
       "        text-align: right;\n",
       "    }\n",
       "\n",
       "    .dataframe thead th {\n",
       "        text-align: left;\n",
       "    }\n",
       "\n",
       "    .dataframe tbody tr th {\n",
       "        vertical-align: top;\n",
       "    }\n",
       "</style>\n",
       "<table border=\"1\" class=\"dataframe\">\n",
       "  <thead>\n",
       "    <tr style=\"text-align: right;\">\n",
       "      <th></th>\n",
       "      <th>ROUGE-1</th>\n",
       "      <th>ROUGE-2</th>\n",
       "      <th>ROUGE-SU4</th>\n",
       "    </tr>\n",
       "  </thead>\n",
       "  <tbody>\n",
       "    <tr>\n",
       "      <th>basic</th>\n",
       "      <td>0.45818</td>\n",
       "      <td>0.12450</td>\n",
       "      <td>0.19396</td>\n",
       "    </tr>\n",
       "    <tr>\n",
       "      <th>svm</th>\n",
       "      <td>0.40457</td>\n",
       "      <td>0.09418</td>\n",
       "      <td>0.16504</td>\n",
       "    </tr>\n",
       "    <tr>\n",
       "      <th>svr</th>\n",
       "      <td>0.44187</td>\n",
       "      <td>0.11881</td>\n",
       "      <td>0.18651</td>\n",
       "    </tr>\n",
       "    <tr>\n",
       "      <th>org</th>\n",
       "      <td>0.49174</td>\n",
       "      <td>0.14956</td>\n",
       "      <td>0.21701</td>\n",
       "    </tr>\n",
       "  </tbody>\n",
       "</table>\n",
       "</div>"
      ],
      "text/plain": [
       "       ROUGE-1  ROUGE-2  ROUGE-SU4\n",
       "basic  0.45818  0.12450    0.19396\n",
       "svm    0.40457  0.09418    0.16504\n",
       "svr    0.44187  0.11881    0.18651\n",
       "org    0.49174  0.14956    0.21701"
      ]
     },
     "execution_count": 3,
     "metadata": {},
     "output_type": "execute_result"
    }
   ],
   "source": [
    "result"
   ]
  },
  {
   "cell_type": "code",
   "execution_count": 6,
   "metadata": {},
   "outputs": [
    {
     "name": "stdout",
     "output_type": "stream",
     "text": [
      "38 entries...\n",
      "38 entries are used for evaluation.\n",
      "38 entries...\n",
      "38 entries are used for evaluation.\n",
      "38 entries...\n",
      "38 entries are used for evaluation.\n",
      "38 entries...\n",
      "38 entries are used for evaluation.\n"
     ]
    },
    {
     "data": {
      "text/html": [
       "<div>\n",
       "<style>\n",
       "    .dataframe thead tr:only-child th {\n",
       "        text-align: right;\n",
       "    }\n",
       "\n",
       "    .dataframe thead th {\n",
       "        text-align: left;\n",
       "    }\n",
       "\n",
       "    .dataframe tbody tr th {\n",
       "        vertical-align: top;\n",
       "    }\n",
       "</style>\n",
       "<table border=\"1\" class=\"dataframe\">\n",
       "  <thead>\n",
       "    <tr style=\"text-align: right;\">\n",
       "      <th></th>\n",
       "      <th>ROUGE-1</th>\n",
       "      <th>ROUGE-2</th>\n",
       "      <th>ROUGE-SU4</th>\n",
       "    </tr>\n",
       "  </thead>\n",
       "  <tbody>\n",
       "    <tr>\n",
       "      <th>basic</th>\n",
       "      <td>0.71024</td>\n",
       "      <td>0.27204</td>\n",
       "      <td>0.37444</td>\n",
       "    </tr>\n",
       "    <tr>\n",
       "      <th>svm</th>\n",
       "      <td>0.67110</td>\n",
       "      <td>0.24551</td>\n",
       "      <td>0.35702</td>\n",
       "    </tr>\n",
       "    <tr>\n",
       "      <th>svr</th>\n",
       "      <td>0.67985</td>\n",
       "      <td>0.25566</td>\n",
       "      <td>0.36109</td>\n",
       "    </tr>\n",
       "    <tr>\n",
       "      <th>org</th>\n",
       "      <td>0.77776</td>\n",
       "      <td>0.35852</td>\n",
       "      <td>0.42424</td>\n",
       "    </tr>\n",
       "  </tbody>\n",
       "</table>\n",
       "</div>"
      ],
      "text/plain": [
       "       ROUGE-1  ROUGE-2  ROUGE-SU4\n",
       "basic  0.71024  0.27204    0.37444\n",
       "svm    0.67110  0.24551    0.35702\n",
       "svr    0.67985  0.25566    0.36109\n",
       "org    0.77776  0.35852    0.42424"
      ]
     },
     "execution_count": 6,
     "metadata": {},
     "output_type": "execute_result"
    }
   ],
   "source": [
    "from evaluation import evaluate_rouge_scores\n",
    "from pandas import DataFrame\n",
    "\n",
    "waylist = ['basic','svm','svr','org']\n",
    "result_l = []\n",
    "score = evaluate_rouge_scores('org_text/test_rouge.txt')\n",
    "result_l.append([score['ROUGE-1'],score['ROUGE-2'],score['ROUGE-SU4']])\n",
    "for way in waylist[1:]:\n",
    "    res_file = 'extract2_output/test'+way+'_output.txt'\n",
    "    score = evaluate_rouge_scores(res_file)\n",
    "    result_l.append([score['ROUGE-1'],score['ROUGE-2'],score['ROUGE-SU4']])\n",
    "result = DataFrame(result_l, index = waylist, columns = ['ROUGE-1','ROUGE-2','ROUGE-SU4'])\n",
    "result"
   ]
  },
  {
   "cell_type": "code",
   "execution_count": 7,
   "metadata": {},
   "outputs": [
    {
     "name": "stdout",
     "output_type": "stream",
     "text": [
      "38 entries...\n",
      "38 entries are used for evaluation.\n",
      "38 entries...\n",
      "38 entries are used for evaluation.\n",
      "38 entries...\n",
      "38 entries are used for evaluation.\n",
      "38 entries...\n",
      "38 entries are used for evaluation.\n"
     ]
    },
    {
     "data": {
      "text/html": [
       "<div>\n",
       "<style>\n",
       "    .dataframe thead tr:only-child th {\n",
       "        text-align: right;\n",
       "    }\n",
       "\n",
       "    .dataframe thead th {\n",
       "        text-align: left;\n",
       "    }\n",
       "\n",
       "    .dataframe tbody tr th {\n",
       "        vertical-align: top;\n",
       "    }\n",
       "</style>\n",
       "<table border=\"1\" class=\"dataframe\">\n",
       "  <thead>\n",
       "    <tr style=\"text-align: right;\">\n",
       "      <th></th>\n",
       "      <th>ROUGE-1</th>\n",
       "      <th>ROUGE-2</th>\n",
       "      <th>ROUGE-SU4</th>\n",
       "    </tr>\n",
       "  </thead>\n",
       "  <tbody>\n",
       "    <tr>\n",
       "      <th>basic</th>\n",
       "      <td>0.45818</td>\n",
       "      <td>0.12450</td>\n",
       "      <td>0.19396</td>\n",
       "    </tr>\n",
       "    <tr>\n",
       "      <th>svm</th>\n",
       "      <td>0.43303</td>\n",
       "      <td>0.11218</td>\n",
       "      <td>0.18521</td>\n",
       "    </tr>\n",
       "    <tr>\n",
       "      <th>svr</th>\n",
       "      <td>0.45859</td>\n",
       "      <td>0.12237</td>\n",
       "      <td>0.19404</td>\n",
       "    </tr>\n",
       "    <tr>\n",
       "      <th>org</th>\n",
       "      <td>0.49174</td>\n",
       "      <td>0.14956</td>\n",
       "      <td>0.21701</td>\n",
       "    </tr>\n",
       "  </tbody>\n",
       "</table>\n",
       "</div>"
      ],
      "text/plain": [
       "       ROUGE-1  ROUGE-2  ROUGE-SU4\n",
       "basic  0.45818  0.12450    0.19396\n",
       "svm    0.43303  0.11218    0.18521\n",
       "svr    0.45859  0.12237    0.19404\n",
       "org    0.49174  0.14956    0.21701"
      ]
     },
     "execution_count": 7,
     "metadata": {},
     "output_type": "execute_result"
    }
   ],
   "source": [
    "from evaluation import evaluate_rouge_scores_average\n",
    "from pandas import DataFrame\n",
    "\n",
    "waylist = ['basic','svm','svr','org']\n",
    "result_l = []\n",
    "score = evaluate_rouge_scores_average('org_text/test_rouge.txt')\n",
    "result_l.append([score['ROUGE-1'],score['ROUGE-2'],score['ROUGE-SU4']])\n",
    "for way in waylist[1:]:\n",
    "    res_file = 'extract2_output/test'+way+'_output.txt'\n",
    "    score = evaluate_rouge_scores_average(res_file)\n",
    "    result_l.append([score['ROUGE-1'],score['ROUGE-2'],score['ROUGE-SU4']])\n",
    "result = DataFrame(result_l, index = waylist, columns = ['ROUGE-1','ROUGE-2','ROUGE-SU4'])\n",
    "result"
   ]
  }
 ],
 "metadata": {
  "kernelspec": {
   "display_name": "Python [conda env:deeplearning]",
   "language": "python",
   "name": "conda-env-deeplearning-py"
  },
  "language_info": {
   "codemirror_mode": {
    "name": "ipython",
    "version": 3
   },
   "file_extension": ".py",
   "mimetype": "text/x-python",
   "name": "python",
   "nbconvert_exporter": "python",
   "pygments_lexer": "ipython3",
   "version": "3.6.3"
  }
 },
 "nbformat": 4,
 "nbformat_minor": 2
}

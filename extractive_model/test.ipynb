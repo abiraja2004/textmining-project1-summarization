{
 "cells": [
  {
   "cell_type": "code",
   "execution_count": 2,
   "metadata": {
    "collapsed": true
   },
   "outputs": [],
   "source": [
    "from os.path import normpath, basename, join, exists, expanduser\n",
    "import gzip\n",
    "import json\n",
    "from glob import glob\n",
    "from pythonrouge.pythonrouge import Pythonrouge\n",
    "from __future__ import print_function\n",
    "from pythonrouge.pythonrouge import Pythonrouge\n",
    "from pprint import pprint\n",
    "\n"
   ]
  },
  {
   "cell_type": "code",
   "execution_count": 3,
   "metadata": {
    "collapsed": true
   },
   "outputs": [],
   "source": [
    "ROUGE = expanduser(\"/root/sharefolder/playgrounds/pku/text-mining/project1-summrazation/rouge/pythonrouge/pythonrouge/RELEASE-1.5.5\")\n",
    "ROUGE_PATH = join(ROUGE, \"ROUGE-1.5.5.pl\")\n",
    "ROUGE_DATA = join(ROUGE, \"data\")"
   ]
  },
  {
   "cell_type": "code",
   "execution_count": 7,
   "metadata": {
    "collapsed": true
   },
   "outputs": [],
   "source": [
    "summary = [[\"Great location, very good selection of food for\\\n",
    "             breakfast buffet.\",\n",
    "            \"Stunning food, amazing service.\",\n",
    "            \"The food is excellent and the service great.\"],\n",
    "           [\"The keyboard, more than 90% standard size, is just\\\n",
    "             large enough .\",\n",
    "            \"Surprisingly readable screen for the size .\",\n",
    "            \"Smaller size videos   play even smoother .\"]]\n",
    "reference = [\n",
    "             [[\"Food was excellent with a wide range of choices and\\\n",
    "               good services.\", \"It was a bit expensive though.\"],\n",
    "              [\"Food can be a little bit overpriced, but is good for\\\n",
    "              hotel.\"],\n",
    "              [\"The food in the hotel was a little over priced but\\\n",
    "              excellent in taste and choice.\",\n",
    "              \"There were also many choices to eat in the near\\\n",
    "              vicinity of the hotel.\"]],\n",
    "             [[\"The size is great and allows for excellent\\\n",
    "               portability.\",\n",
    "               \"Makes it exceptionally easy to tote around, and the\\\n",
    "               keyboard is fairly big considering the size of this\\\n",
    "               netbook.\"],\n",
    "              [\"Size is small and manageable.\",\n",
    "               \"Perfect size and weight.\",\n",
    "               \"Great size for travel.\"],\n",
    "              [\"The keyboard is a decent size, a bit smaller then\\\n",
    "              average but good.\",\n",
    "              \"The laptop itself is small but big enough do do\\\n",
    "              things on it.\"],\n",
    "              [\"In spite of being small it is still comfortable.\",\n",
    "              \"The screen and keyboard are well sized for use\"]]\n",
    "              ]\n",
    "rouge = Pythonrouge(summary_file_exist=False,\n",
    "                    summary=summary, reference=reference,\n",
    "                    n_gram=2, ROUGE_SU4=True, ROUGE_L=False,\n",
    "                    recall_only=True, stemming=True, stopwords=True,\n",
    "                    word_level=True, length_limit=True, length=50,\n",
    "                    use_cf=False, cf=95, scoring_formula='average',\n",
    "                    resampling=True, samples=1000, favor=True, p=0.5)"
   ]
  },
  {
   "cell_type": "code",
   "execution_count": 8,
   "metadata": {
    "collapsed": true
   },
   "outputs": [],
   "source": [
    "score = rouge.calc_score()"
   ]
  },
  {
   "cell_type": "code",
   "execution_count": 9,
   "metadata": {},
   "outputs": [
    {
     "name": "stdout",
     "output_type": "stream",
     "text": [
      "ROUGE-N(1-2) & SU4 recall only\n",
      "{'ROUGE-1': 0.32051, 'ROUGE-2': 0.02381, 'ROUGE-SU4': 0.11023}\n"
     ]
    }
   ],
   "source": [
    "print('ROUGE-N(1-2) & SU4 recall only')\n",
    "pprint(score)"
   ]
  },
  {
   "cell_type": "code",
   "execution_count": 5,
   "metadata": {
    "collapsed": true
   },
   "outputs": [],
   "source": [
    "summary = [[\"Great location, very good selection of food for\\\n",
    "             breakfast buffet.\",\n",
    "            \"Stunning food, amazing service.\",\n",
    "            \"The food is excellent and the service great.\"],\n",
    "           [\"The keyboard, more than 90% standard size, is just\\\n",
    "             large enough .\",\n",
    "            \"Surprisingly readable screen for the size .\",\n",
    "            \"Smaller size videos   play even smoother .\"]]\n",
    "reference = [\n",
    "             [[\"Food was excellent with a wide range of choices and\\\n",
    "               good services.\", \"It was a bit expensive though.\"],\n",
    "              [\"Food can be a little bit overpriced, but is good for\\\n",
    "              hotel.\"],\n",
    "              [\"The food in the hotel was a little over priced but\\\n",
    "              excellent in taste and choice.\",\n",
    "              \"There were also many choices to eat in the near\\\n",
    "              vicinity of the hotel.\"]],\n",
    "             [[\"The size is great and allows for excellent\\\n",
    "               portability.\",\n",
    "               \"Makes it exceptionally easy to tote around, and the\\\n",
    "               keyboard is fairly big considering the size of this\\\n",
    "               netbook.\"],\n",
    "              [\"Size is small and manageable.\",\n",
    "               \"Perfect size and weight.\",\n",
    "               \"Great size for travel.\"],\n",
    "              [\"The keyboard is a decent size, a bit smaller then\\\n",
    "              average but good.\",\n",
    "              \"The laptop itself is small but big enough do do\\\n",
    "              things on it.\"],\n",
    "              [\"In spite of being small it is still comfortable.\",\n",
    "              \"The screen and keyboard are well sized for use\"]]\n",
    "              ]\n",
    "rouge2 = Pythonrouge(summary_file_exist=False,\n",
    "                    summary=summary, reference=reference,\n",
    "                    n_gram=2, ROUGE_SU4=True, ROUGE_L=False,\n",
    "                    recall_only=True, stemming=True, stopwords=True,\n",
    "                    word_level=True, length_limit=True, length=5,\n",
    "                    use_cf=False, cf=95, scoring_formula='average',\n",
    "                    resampling=True, samples=1000, favor=True, p=0.5)"
   ]
  },
  {
   "cell_type": "code",
   "execution_count": 6,
   "metadata": {},
   "outputs": [
    {
     "data": {
      "text/plain": [
       "{'ROUGE-1': 0.05555, 'ROUGE-2': 0.0, 'ROUGE-SU4': 0.04546}"
      ]
     },
     "execution_count": 6,
     "metadata": {},
     "output_type": "execute_result"
    }
   ],
   "source": [
    " rouge2.calc_score()"
   ]
  }
 ],
 "metadata": {
  "kernelspec": {
   "display_name": "Python [conda env:deeplearning]",
   "language": "python",
   "name": "conda-env-deeplearning-py"
  },
  "language_info": {
   "codemirror_mode": {
    "name": "ipython",
    "version": 3
   },
   "file_extension": ".py",
   "mimetype": "text/x-python",
   "name": "python",
   "nbconvert_exporter": "python",
   "pygments_lexer": "ipython3",
   "version": "3.6.3"
  }
 },
 "nbformat": 4,
 "nbformat_minor": 2
}

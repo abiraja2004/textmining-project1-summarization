{
 "cells": [
  {
   "cell_type": "code",
   "execution_count": 17,
   "metadata": {
    "collapsed": true
   },
   "outputs": [],
   "source": [
    "corpus = {}\n",
    "label = {}\n",
    "label_index = {}\n",
    "fname = ['train','dev','test']\n",
    "for file_s in fname:\n",
    "    fopen = open('extract_input/'+file_s+'.txt','r')\n",
    "    _corpus = []\n",
    "    _label = [[],[],[],[]]\n",
    "    _label_index = []\n",
    "    ind = 0\n",
    "    for line in fopen:\n",
    "        list_ = line.strip().split('\\t')\n",
    "        text,label1,label2,label3,label4 = list_[-5:]\n",
    "        textlist = text.split('</s><s>')\n",
    "        n = len(textlist)\n",
    "        _corpus.extend(textlist)\n",
    "        _label_index.extend([ind]*n)\n",
    "        _label[0].append(label1)\n",
    "        _label[1].append(label2)\n",
    "        _label[2].append(label3)\n",
    "        _label[3].append(label4)\n",
    "        ind+=1\n",
    "    fopen.close()\n",
    "    corpus[file_s] = _corpus\n",
    "    label[file_s] = _label\n",
    "    label_index[file_s] = _label_index"
   ]
  },
  {
   "cell_type": "code",
   "execution_count": 19,
   "metadata": {},
   "outputs": [
    {
     "name": "stdout",
     "output_type": "stream",
     "text": [
      "5.51 % has completed\n",
      "11.03 % has completed\n",
      "16.54 % has completed\n",
      "22.06 % has completed\n",
      "27.57 % has completed\n",
      "33.08 % has completed\n",
      "38.60 % has completed\n",
      "44.11 % has completed\n",
      "49.63 % has completed\n",
      "55.14 % has completed\n",
      "60.65 % has completed\n",
      "66.17 % has completed\n",
      "71.68 % has completed\n",
      "77.19 % has completed\n",
      "82.71 % has completed\n",
      "88.22 % has completed\n",
      "93.74 % has completed\n",
      "99.25 % has completed\n",
      "51.44 % has completed\n",
      "48.40 % has completed\n",
      "96.81 % has completed\n"
     ]
    }
   ],
   "source": [
    "import pandas as pd \n",
    "from pandas import Series, DataFrame\n",
    "import numpy as np\n",
    "\n",
    "from pythonrouge.pythonrouge import Pythonrouge\n",
    "\n",
    "\n",
    "for file_s in fname:\n",
    "    N = len(corpus[file_s])\n",
    "    rouge_val = []\n",
    "    for i in range(N):\n",
    "        text = corpus[file_s][i]\n",
    "        _index  = label_index[file_s][i]\n",
    "        label_s = [[label[file_s][j][_index]] for j in range(4)]\n",
    "        summary = [[text]]\n",
    "        reference = [label_s]\n",
    "        rouge = Pythonrouge(summary_file_exist=False,\n",
    "                summary=summary, reference=reference,\n",
    "                n_gram=2, ROUGE_SU4=True, ROUGE_L=False,\n",
    "                recall_only=True, stemming=True, stopwords=True,\n",
    "                word_level=True, length_limit=True, length=50,\n",
    "                use_cf=False, cf=95, scoring_formula='best',\n",
    "                resampling=True, samples=1000, favor=True, p=0.5)\n",
    "        score = rouge.calc_score()\n",
    "        rouge_val.append([score['ROUGE-1'], score['ROUGE-2'], score['ROUGE-SU4']])\n",
    "\n",
    "        if (i+1)%500==0:\n",
    "            print(\"%.2f %% has completed\" %((i+1.0)/N*100))\n",
    "\n",
    "    rouge_data = DataFrame(rouge_val, columns = ['ROUGE-1','ROUGE-2','ROUGE-SU4'])\n",
    "    rouge_data.to_csv(file_s+'_bestrouge.csv', index = False)"
   ]
  },
  {
   "cell_type": "code",
   "execution_count": 20,
   "metadata": {
    "collapsed": true
   },
   "outputs": [],
   "source": [
    "startpos = 0\n",
    "for file_s in fname:\n",
    "    N = len(corpus[file_s])\n",
    "    rouge_data = DataFrame(rouge_val[startpos:startpos+N], columns = ['ROUGE-1','ROUGE-2','ROUGE-SU4'])\n",
    "    rouge_data.to_csv(file_s+'_bestrouge.csv', index = False)\n",
    "    startpos +=N"
   ]
  }
 ],
 "metadata": {
  "kernelspec": {
   "display_name": "Python [conda env:deeplearning]",
   "language": "python",
   "name": "conda-env-deeplearning-py"
  },
  "language_info": {
   "codemirror_mode": {
    "name": "ipython",
    "version": 3
   },
   "file_extension": ".py",
   "mimetype": "text/x-python",
   "name": "python",
   "nbconvert_exporter": "python",
   "pygments_lexer": "ipython3",
   "version": "3.6.3"
  }
 },
 "nbformat": 4,
 "nbformat_minor": 2
}
